{
 "cells": [
  {
   "cell_type": "markdown",
   "metadata": {},
   "source": [
    "# Staircase Problem for taking 1 or 2 steps at a time - A combinatorial solution\n",
    "\n",
    "The stair-case-problem, taking 1 or 2 steps at a time, questions how many distinct ways there are to take all stairs ?\n",
    "The [**most frequent solution**](https://quanticdev.com/algorithms/dynamic-programming/staircase-problems/) to that problem, which also provides a solution for taking up to *m* steps, is based on the Fibonacci sequence. Without the solution, resulting directly to the Fibonacci sequence is not so intuitive. Applying a tree-analyses, which sets up all combinations reveals the Fibonacci sequence. A more intuitive modelling approach can be achieved via combinatorics. \n",
    "\n",
    " - Part 3: Deriving a general formula for n stairs and taking 1 or 2 steps at a time.\n",
    " - Part 4: Comparing results with the Fibonacci-solution.\n",
    " - Part 5: Considering additionally a pause option when having number of stairs' actions of taking 1, 2 or 0 steps."
   ]
  },
  {
   "cell_type": "markdown",
   "metadata": {},
   "source": [
    "![](https://res.cloudinary.com/practicaldev/image/fetch/s--s32xY0FA--/c_limit%2Cf_auto%2Cfl_progressive%2Cq_auto%2Cw_880/https://dev-to-uploads.s3.amazonaws.com/i/rdmbuufsp88bldsqf7fp.png)"
   ]
  },
  {
   "cell_type": "markdown",
   "metadata": {},
   "source": [
    "# Imports"
   ]
  },
  {
   "cell_type": "code",
   "execution_count": 34,
   "metadata": {},
   "outputs": [],
   "source": [
    "import sys\n",
    "sys.path.insert(0, 'lib\\\\')\n",
    "import pandas as pd \n",
    "import numpy as np\n",
    "from matplotlib import pyplot as plt\n",
    "import scipy.special"
   ]
  },
  {
   "cell_type": "markdown",
   "metadata": {},
   "source": [
    "# Deriving a general formula for *n* stairs and taking 1 or 2 steps at a time\n",
    "Part 3. "
   ]
  },
  {
   "cell_type": "markdown",
   "metadata": {},
   "source": [
    "Let *n* be the number of stairs, greater than 0, and let a stair-taker either take 1 or 2 steps at a time. Furthermore, a field of length *n* is introduced, which can also contain one or more 0's. These 0's are interpreted as a pause which the step-taker takes. This mentioned field can then be used for an iterative solution in which simply all possible combinations are evaluated (cycle-evaluation), but this numerical approach is suboptimal due to its time complexity of O(2^n). The [**recursion with memoization**](https://quanticdev.com/algorithms/dynamic-programming/staircase-problems/) can bring the time complexity down to O(2^n). For the part 3 the 0's can be completely ignored.\n",
    "\n",
    "The modelling approach is divided into three steps:\n",
    " 1. Computing the number of combinations without order (part 3.1).\n",
    " 2. Computing the number of combinations with order, but without considering any 0 for a pause (part 3.2).\n",
    " 3. Computing the number of combinations with order and with considering 0 for a pause (part 5).\n",
    " \n",
    "These steps set up on each other."
   ]
  },
  {
   "cell_type": "markdown",
   "metadata": {},
   "source": [
    "## Computing the number of combinations without order for *n* stairs and taking 1 or 2 steps at a time\n",
    "Part 3.1. Not considering zeros (can be ignored)  "
   ]
  },
  {
   "cell_type": "markdown",
   "metadata": {},
   "source": [
    "The unique number of combinations with given elements is the first thing which needs to be determined. Considering the order is then just permutating these elements for each combination, which was determined in the first step.\n",
    "\n",
    "For visualisation a field (as a helper) is introduced. Consider 10 stairs, which implies a field of size 10. Consider the most simple case where the stair-taker simply always takes one step:\n",
    "\n",
    "$$1.\\hspace{10mm}[1,1,1,1,1,1,1,1,1,1]$$\n",
    "\n",
    "For each time the stair-taker takes two steps instead of one also a pause(a 0) needs to be added to the field:\n",
    "$$2.\\hspace{10mm}[2,1,1,1,1,1,1,1,1,0]$$\n",
    "$$3.\\hspace{10mm}[2,2,1,1,1,1,1,1,0,0]$$\n",
    "$$\\hspace{10mm}...$$\n",
    "$$5.\\hspace{10mm}[2,2,2,2,1,1,0,0,0,0]$$\n",
    "$$6.\\hspace{10mm}[2,2,2,2,2,0,0,0,0,0]$$\n",
    "\n",
    "Here it should be emparized that the order does not matter hence,\n",
    "\n",
    "$$2.\\hspace{10mm}[2,1,1,1,1,1,1,1,1,0] = [1,2,1,1,1,1,1,1,1,0] = [1,1,2,1,1,1,1,1,0] = ...$$\n",
    "\n",
    "The 0's can be ignored completely here.\n",
    "\n",
    "One main conclusion can be taken from this: \n",
    " - If the maximum number of steps is 2 and in total there are 10 stairs then maximal five 2's fit in 10 stairs. If there would be 11 stairs then still only five 2's would fit completely in them hence, the number of 2's fitting in *n* stairs is therefore simply \n",
    " \n",
    "$$floor(n / 2)$$ \n",
    " \n",
    "Considering additionally the one combination with no 2 at all leads to:\n",
    "\n",
    "$$(3.1)\\hspace{10mm}NumOfCombinationsWithoutOrder(n) = floor(n / 2) + 1 $$  \n"
   ]
  },
  {
   "cell_type": "code",
   "execution_count": 36,
   "metadata": {},
   "outputs": [],
   "source": [
    "def numCombinationsWithoutOrderAndWithoutZeros(stairs):\n",
    "    return (int(stairs / 2) + 1)"
   ]
  },
  {
   "cell_type": "code",
   "execution_count": 37,
   "metadata": {},
   "outputs": [
    {
     "name": "stdout",
     "output_type": "stream",
     "text": [
      "Computing the number of combinations without order and without zeros for 10 stairs is 6\n"
     ]
    }
   ],
   "source": [
    "n = 10\n",
    "print('Computing the number of combinations without order and without zeros for', n, 'stairs is', numCombinationsWithoutOrderAndWithoutZeros(n))"
   ]
  },
  {
   "cell_type": "markdown",
   "metadata": {},
   "source": [
    "## Computing the number of combinations with order for *n* stairs and taking 1 or 2 steps at a time\n",
    "Part 3.2. Not considering zeros (can be ignored) "
   ]
  },
  {
   "cell_type": "markdown",
   "metadata": {},
   "source": [
    "For each unique combination with given elements the number of permutations need to be determined hence, rearranging all possible orders for taking 1 and/or 2 steps.\n",
    "\n",
    "Considering the second combination with one 2:\n",
    "$$\\hspace{0mm}[2,1,1,1,1,1,1,1,1,0]$$ \n",
    "$$\\hspace{0mm}[1,2,1,1,1,1,1,1,1,0]$$\n",
    "$$\\hspace{0mm}...$$\n",
    "$$\\hspace{0mm}[1,1,1,1,1,1,1,2,1,0]$$\n",
    "$$\\hspace{0mm}[1,1,1,1,1,1,1,1,2,0]$$\n",
    "\n",
    "In total there are 9 permutations, which lead to a different ordering (ignoring the 0). So, the number of permutations for each unique combination (3.1) depends on the total number of taking 1 and 2 steps. In the previous example it was one 2 out of nine actions the step-taker took. Therefore, the combination [2,1,1,1,1,1,1,1,1,0] has:\n",
    " \n",
    "$$ \\binom{9}{1} = 9 $$\n",
    "\n",
    "different permutations. So, for each additional 2 an additional 0 needs to be included as well, which the considered total length (0's are ignored). \n",
    "\n",
    "$$ \\binom{n - numberOf2s}{numberOf2s} $$\n",
    "\n",
    "From 3.1 it is known that the number of 2's on *n* stairs ranges between 0,...,floor(*n* / 2), summing all combinations up results in:\n",
    "\n",
    "$$(3.2)\\hspace{10mm}NumOfCombinationsWithOrder(n) = \\sum_{numberOf2s=0}^{floor(n / 2)} \\binom{n - numberOf2s}{numberOf2s}$$\n"
   ]
  },
  {
   "cell_type": "code",
   "execution_count": 48,
   "metadata": {},
   "outputs": [],
   "source": [
    "def numCombinationsWithOrderAndWithoutZeros(stairs):\n",
    "    combis = 0       \n",
    "    k = int(stairs / 2)\n",
    "    for j in range(1, k+1):\n",
    "        combis += scipy.special.binom(stairs - j, j)\n",
    "    return int(combis + 1)"
   ]
  },
  {
   "cell_type": "code",
   "execution_count": 49,
   "metadata": {},
   "outputs": [
    {
     "name": "stdout",
     "output_type": "stream",
     "text": [
      "Computing the number of combinations with order and without zeros for 10 stairs is 89\n"
     ]
    }
   ],
   "source": [
    "n = 10\n",
    "print('Computing the number of combinations with order and without zeros for', n, 'stairs is', numCombinationsWithOrderAndWithoutZeros(n))"
   ]
  },
  {
   "cell_type": "markdown",
   "metadata": {},
   "source": [
    "For the example with 10 stairs the six unique combinations (3.1) result in the folling combinations with order according formula (3.2):\n",
    "(Note: 0s are ignored)\n",
    "\n",
    "$$(3.2)\\hspace{10mm}NumOfCombinationsWithOrder(10) = \\sum_{numberOf2s=0}^{floor(10 / 2)} \\binom{10 - numberOf2s}{numberOf2s}=$$ \n",
    "\n",
    "$$\\binom{10 - 0}{0}+\\binom{10 - 1}{1}+\\binom{10 - 2}{2}+\\binom{10 - 3}{3}+\\binom{10 - 4}{4}+\\binom{10 - 5}{5} = 1 + 9 + 28 + 35 + 15 + 1 = 89 $$\n",
    "\n",
    "Breaking it down:\n",
    "\n",
    "1. [1,1,1,1,1,1,1,1,1,1], *numberOf2s*=0:\n",
    "\n",
    "$$\\hspace{00mm}\\sum_{numberOf2s=0}^{0} \\binom{10 - 0}{0} = 1$$\n",
    "\n",
    "---\n",
    "2. [2,1,1,1,1,1,1,1,1,0], *numberOf2s*=1:\n",
    "$$\\hspace{0mm}[2,1,1,1,1,1,1,1,1,0]$$ \n",
    "$$\\hspace{0mm}[1,2,1,1,1,1,1,1,1,0]$$\n",
    "$$\\hspace{0mm}...$$\n",
    "$$\\hspace{0mm}[1,1,1,1,1,1,1,1,2,0]$$\n",
    "\n",
    "$$\\hspace{00mm}\\sum_{numberOf2s=1}^{1} \\binom{10 - 1}{1} = \\binom{9}{1} = 9$$\n",
    "\n",
    "3. [2,2,1,1,1,1,1,1,1,0], *numberOf2s*=2:\n",
    "$$\\hspace{0mm}[2,2,1,1,1,1,1,1,0,0]$$ \n",
    "$$\\hspace{0mm}[2,1,2,1,1,1,1,1,0,0]$$\n",
    "$$\\hspace{0mm}...$$\n",
    "$$\\hspace{0mm}[1,2,2,1,1,1,1,1,0,0]$$ \n",
    "$$\\hspace{0mm}...$$\n",
    "$$\\hspace{0mm}[1,1,1,1,1,1,2,2,0,0]$$\n",
    "\n",
    "$$\\hspace{00mm}\\sum_{numberOf2s=2}^{2} \\binom{10 - 2}{2} = \\binom{8}{2} = 28$$\n",
    "\n",
    "4. [2,2,2,1,1,1,1,1,1,0], *numberOf2s*=3:\n",
    "$$\\hspace{0mm}[2,2,2,1,1,1,1,0,0,0]$$ \n",
    "$$\\hspace{0mm}[2,2,1,2,1,1,1,0,0,0]$$\n",
    "$$\\hspace{0mm}...$$\n",
    "$$\\hspace{0mm}[1,2,2,2,1,1,1,0,0,0]$$ \n",
    "$$\\hspace{0mm}...$$\n",
    "$$\\hspace{0mm}[1,1,1,1,2,2,2,0,0,0]$$\n",
    "\n",
    "$$\\hspace{00mm}\\sum_{numberOf2s=3}^{3} \\binom{10 - 3}{3} = \\binom{7}{3} = 35$$\n",
    "\n",
    "5. [2,2,2,2,1,1,1,1,1,0], *numberOf2s*=4:\n",
    "$$\\hspace{0mm}[2,2,2,2,1,1,0,0,0,0]$$ \n",
    "$$\\hspace{0mm}[2,2,2,1,2,1,0,0,0,0]$$\n",
    "$$\\hspace{0mm}...$$\n",
    "$$\\hspace{0mm}[1,2,2,2,2,1,0,0,0,0]$$ \n",
    "$$\\hspace{0mm}...$$\n",
    "$$\\hspace{0mm}[1,1,2,2,2,2,0,0,0,0]$$\n",
    "\n",
    "$$\\hspace{00mm}\\sum_{numberOf2s=4}^{4} \\binom{10 - 4}{4} = \\binom{6}{4} = 15$$\n",
    "\n",
    "5. [2,2,2,2,2,1,1,1,1,0], *numberOf2s*=5:\n",
    "$$\\hspace{0mm}[2,2,2,2,2,0,0,0,0,0]$$ \n",
    "\n",
    "$$\\hspace{00mm}\\sum_{numberOf2s=5}^{5} \\binom{10 - 5}{5} = \\binom{5}{5} = 1$$\n"
   ]
  },
  {
   "cell_type": "markdown",
   "metadata": {},
   "source": [
    "# Comparing results with the fibonacci-solution\n",
    "Part 4."
   ]
  },
  {
   "cell_type": "code",
   "execution_count": 50,
   "metadata": {},
   "outputs": [],
   "source": [
    "def numCombinationsAccFibonacci(n):\n",
    "    if n <= 1:\n",
    "        return 1\n",
    "    return numCombinationsAccFibonacci(n-1) + numCombinationsAccFibonacci(n-2)"
   ]
  },
  {
   "cell_type": "code",
   "execution_count": 51,
   "metadata": {
    "scrolled": true
   },
   "outputs": [
    {
     "data": {
      "text/html": [
       "<div>\n",
       "<style scoped>\n",
       "    .dataframe tbody tr th:only-of-type {\n",
       "        vertical-align: middle;\n",
       "    }\n",
       "\n",
       "    .dataframe tbody tr th {\n",
       "        vertical-align: top;\n",
       "    }\n",
       "\n",
       "    .dataframe thead th {\n",
       "        text-align: right;\n",
       "    }\n",
       "</style>\n",
       "<table border=\"1\" class=\"dataframe\">\n",
       "  <thead>\n",
       "    <tr style=\"text-align: right;\">\n",
       "      <th></th>\n",
       "      <th>numCombinationsAccFibonacci</th>\n",
       "      <th>numCombinationsWithOrderAndWithoutZeros</th>\n",
       "    </tr>\n",
       "  </thead>\n",
       "  <tbody>\n",
       "    <tr>\n",
       "      <th>0</th>\n",
       "      <td>1</td>\n",
       "      <td>1</td>\n",
       "    </tr>\n",
       "    <tr>\n",
       "      <th>1</th>\n",
       "      <td>8</td>\n",
       "      <td>8</td>\n",
       "    </tr>\n",
       "    <tr>\n",
       "      <th>2</th>\n",
       "      <td>89</td>\n",
       "      <td>89</td>\n",
       "    </tr>\n",
       "    <tr>\n",
       "      <th>3</th>\n",
       "      <td>987</td>\n",
       "      <td>987</td>\n",
       "    </tr>\n",
       "    <tr>\n",
       "      <th>4</th>\n",
       "      <td>10946</td>\n",
       "      <td>10946</td>\n",
       "    </tr>\n",
       "  </tbody>\n",
       "</table>\n",
       "</div>"
      ],
      "text/plain": [
       "   numCombinationsAccFibonacci  numCombinationsWithOrderAndWithoutZeros\n",
       "0                            1                                        1\n",
       "1                            8                                        8\n",
       "2                           89                                       89\n",
       "3                          987                                      987\n",
       "4                        10946                                    10946"
      ]
     },
     "execution_count": 51,
     "metadata": {},
     "output_type": "execute_result"
    }
   ],
   "source": [
    "myRange = [1, 5, 10, 15, 20]\n",
    "df = pd.DataFrame()\n",
    "df['numCombinationsAccFibonacci'] = [numCombinationsAccFibonacci(i) for i in myRange]  \n",
    "df['numCombinationsWithOrderAndWithoutZeros'] = [numCombinationsWithOrderAndWithoutZeros(i) for i in myRange] \n",
    "df"
   ]
  },
  {
   "cell_type": "markdown",
   "metadata": {},
   "source": [
    "# Considering a pause option when having number of stairs' actions of taking 1, 2 or 0 steps"
   ]
  },
  {
   "cell_type": "markdown",
   "metadata": {},
   "source": [
    "to continue ..."
   ]
  }
 ],
 "metadata": {
  "kernelspec": {
   "display_name": "Python 3",
   "language": "python",
   "name": "python3"
  },
  "language_info": {
   "codemirror_mode": {
    "name": "ipython",
    "version": 3
   },
   "file_extension": ".py",
   "mimetype": "text/x-python",
   "name": "python",
   "nbconvert_exporter": "python",
   "pygments_lexer": "ipython3",
   "version": "3.8.5"
  },
  "toc": {
   "base_numbering": 1,
   "nav_menu": {},
   "number_sections": true,
   "sideBar": true,
   "skip_h1_title": false,
   "title_cell": "Table of Contents",
   "title_sidebar": "Contents",
   "toc_cell": false,
   "toc_position": {},
   "toc_section_display": true,
   "toc_window_display": false
  },
  "varInspector": {
   "cols": {
    "lenName": 16,
    "lenType": 16,
    "lenVar": 40
   },
   "kernels_config": {
    "python": {
     "delete_cmd_postfix": "",
     "delete_cmd_prefix": "del ",
     "library": "var_list.py",
     "varRefreshCmd": "print(var_dic_list())"
    },
    "r": {
     "delete_cmd_postfix": ") ",
     "delete_cmd_prefix": "rm(",
     "library": "var_list.r",
     "varRefreshCmd": "cat(var_dic_list()) "
    }
   },
   "types_to_exclude": [
    "module",
    "function",
    "builtin_function_or_method",
    "instance",
    "_Feature"
   ],
   "window_display": false
  }
 },
 "nbformat": 4,
 "nbformat_minor": 2
}
