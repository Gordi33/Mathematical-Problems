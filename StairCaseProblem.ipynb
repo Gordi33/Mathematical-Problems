{
 "cells": [
  {
   "cell_type": "markdown",
   "metadata": {},
   "source": [
    "# Staircase Problem for *n* stairs and taking 1 or 2 steps at a time\n",
    "\n",
    "....[**...**](). \n",
    " \n",
    " - Part 3: ..\n",
    " - Part 4: ..."
   ]
  },
  {
   "cell_type": "markdown",
   "metadata": {},
   "source": [
    "![ff](https://res.cloudinary.com/practicaldev/image/fetch/s--s32xY0FA--/c_limit%2Cf_auto%2Cfl_progressive%2Cq_auto%2Cw_880/https://dev-to-uploads.s3.amazonaws.com/i/rdmbuufsp88bldsqf7fp.png)"
   ]
  },
  {
   "cell_type": "markdown",
   "metadata": {},
   "source": [
    "# Imports"
   ]
  },
  {
   "cell_type": "code",
   "execution_count": 9,
   "metadata": {},
   "outputs": [],
   "source": [
    "import sys\n",
    "sys.path.insert(0, 'lib\\\\')\n",
    "import pandas as pd \n",
    "import numpy as np\n",
    "from matplotlib import pyplot as plt\n",
    "import scipy.special\n",
    "import requests\n",
    "from timeit import default_timer as timer\n",
    "import urllib3\n",
    "urllib3.disable_warnings()"
   ]
  },
  {
   "cell_type": "markdown",
   "metadata": {},
   "source": [
    "We can see the Fibonacci sequence in our outputs! Each time we increment n, the number of ways to climb the staircase is the sum of the previous two ways. That means that we can solve the staircase problem by solving for the"
   ]
  },
  {
   "cell_type": "code",
   "execution_count": null,
   "metadata": {},
   "outputs": [],
   "source": []
  },
  {
   "cell_type": "markdown",
   "metadata": {},
   "source": [
    "# Deriving a general formula for *n* stairs and taking 1 or 2 steps at a time\n",
    "Part 3: "
   ]
  },
  {
   "cell_type": "markdown",
   "metadata": {},
   "source": [
    "Let *n* be the number of stairs, greater than 0, and let *k=2* be the maximum number of steps at a time, which a step-taker can take. Furthermore, a field of length *n* is introduced, which also can contain one or more 0's. These 0's are interpreted as a pause the step-taker takes. This mentioned field can then be used for an iterative solution in which simply all possible combinations are evaluated (cycle-evaluation), but this numerical approach is suboptimal due to its complexity. Mainly, the field helps us to derive a general formula due to the visualisation.  \n",
    "\n",
    "The modelling appraoch is devided into three steps\n",
    " - 1. Computing the number of combinations without order \n",
    " - 2. Computing the number of combinations with order, but without considering any 0 for a pause\n",
    " - 3. Computing the number of combinations with order and with considering any 0 for a pause\n"
   ]
  },
  {
   "cell_type": "markdown",
   "metadata": {},
   "source": [
    "## Computing the number of combinations without order for *n* stairs and taking 1 or 2 steps at a time\n",
    "Not considering zeros (can be ignored)  "
   ]
  },
  {
   "cell_type": "markdown",
   "metadata": {},
   "source": [
    "The unique number of combinations with given elements is the first thing which needs to be determined. Considering the order is then just permutating these elements for each combination, which was determined in the first step.\n",
    "\n",
    "For visualisation a field (as a helper) is introduced. Consider 10 stairs, which implies a field of size 10. Consider the most simple case where the stair-taker simply always takes one step:\n",
    "\n",
    "$$1.\\hspace{10mm}[1,1,1,1,1,1,1,1,1,1]$$\n",
    "\n",
    "For each time the stair-taker takes two steps instead of one also a pause(a 0) needs to be added to the field:\n",
    "\n",
    "$$2.\\hspace{10mm}[2,1,1,1,1,1,1,1,1,0]$$\n",
    "\n",
    "$$3.\\hspace{10mm}[2,2,1,1,1,1,1,1,0,0]$$\n",
    "\n",
    "$$4.\\hspace{10mm}[2,2,2,1,1,1,1,0,0,0]$$\n",
    "\n",
    "$$5.\\hspace{10mm}[2,2,2,2,1,1,0,0,0,0]$$\n",
    "\n",
    "$$6.\\hspace{10mm}[2,2,2,2,2,0,0,0,0,0]$$\n",
    "\n",
    "Here it should be emparized that the order does not matter hence,\n",
    "\n",
    "$$2.\\hspace{10mm}[2,1,1,1,1,1,1,1,1,0] = [1,2,1,1,1,1,1,1,1,0] = [1,1,2,1,1,1,1,1,0] = ...$$\n",
    "\n",
    "The 0's can be ignored completely here.\n",
    "\n",
    "One main conclusion can be taken from this: \n",
    " - If the maximum number of steps is 2 and in total there are 10 stairs then maximal five 2's fit in 10 stairs. If there would be 11 stairs then still only five 2's would fit completely in them hence, the number of 2's fitting in *n* stairs is therefore simply \n",
    " \n",
    "$$floor(n / 2)$$ \n",
    " \n",
    "Considering additionally the one combination with no 2 at all leads to:\n",
    "\n",
    "$$(3.1)\\hspace{10mm}NumOfCombinationsWithoutOrder(n) = floor(n / 2) + 1 $$  \n"
   ]
  },
  {
   "cell_type": "code",
   "execution_count": 15,
   "metadata": {},
   "outputs": [],
   "source": [
    "def combinationsWithoutOrderAndWithoutZeros(stairs):\n",
    "    return (int(stairs / 2) + 1)"
   ]
  },
  {
   "cell_type": "code",
   "execution_count": 29,
   "metadata": {},
   "outputs": [
    {
     "name": "stdout",
     "output_type": "stream",
     "text": [
      "Computing the number of combinations without order and without zeros for 10 stairs is 6\n"
     ]
    }
   ],
   "source": [
    "n = 10\n",
    "print('Computing the number of combinations without order and without zeros for', n, 'stairs is', combinationsWithoutOrderAndWithoutZeros(n))"
   ]
  },
  {
   "cell_type": "markdown",
   "metadata": {},
   "source": [
    "## Computing the number of combinations with order for *n* stairs and taking 1 or 2 steps at a time\n",
    "Not considering zeros (can be ignored) "
   ]
  },
  {
   "cell_type": "markdown",
   "metadata": {},
   "source": [
    "For each unique combination with given elements the number of permutations need to be determined hence, rearranging all possible orders for taking 1 and/or 2 steps.\n",
    "\n",
    "Considering the second combination with one 2:\n",
    "$$\\hspace{0mm}[2,1,1,1,1,1,1,1,1,0]$$ \n",
    "$$\\hspace{0mm}[1,2,1,1,1,1,1,1,1,0]$$\n",
    "$$\\hspace{0mm}...$$\n",
    "$$\\hspace{0mm}[1,1,1,1,1,1,1,2,1,0]$$\n",
    "$$\\hspace{0mm}[1,1,1,1,1,1,1,1,2,0]$$\n",
    "\n",
    "In total there are 9 permutations, which lead to a different ordering (ignoring the 0). So, the number of permutations for each unique combination (3.1) depends on the total number of taking 1 and 2 steps. In the previous example it was one 2 out of nine actions the step-taker took. Therefore, the combination [2,1,1,1,1,1,1,1,1,0] has:\n",
    " \n",
    "$$ \\binom{9}{1} = 9 $$\n",
    "\n",
    "different permutations. So, for each additional 2 an additional 0 needs to be included as well, which the considered total length (0's are ignored). \n",
    "\n",
    "$$ \\binom{n - numberOf2s}{NunumberOf2s} $$\n",
    "\n",
    "From 3.1 it is known that the number of 2's on *n* stairs ranges between 0,...,floor(*n* / 2), summing all combinations up results in:\n",
    "\n",
    "$$(3.2)\\hspace{10mm}NumOfCombinationsWithOrder(n) = \\sum_{numberOf2s=0}^{floor(n / 2)} \\binom{n - numberOf2s}{NunumberOf2s}$$\n"
   ]
  },
  {
   "cell_type": "code",
   "execution_count": 30,
   "metadata": {},
   "outputs": [],
   "source": [
    "def combinationsOrderAndWithoutZeros(stairs):\n",
    "    combis = 0\n",
    "       \n",
    "    k = int(stairs / 2)\n",
    "    for j in range(1, k+1):\n",
    "        combis += scipy.special.binom(stairs - j, j)\n",
    "    \n",
    "    return (combis + 1)"
   ]
  },
  {
   "cell_type": "code",
   "execution_count": 28,
   "metadata": {},
   "outputs": [
    {
     "name": "stdout",
     "output_type": "stream",
     "text": [
      "Computing the number of combinations with order and without zeros for 10 stairs is 89.0\n"
     ]
    }
   ],
   "source": [
    "n = 10\n",
    "print('Computing the number of combinations with order and without zeros for', n, 'stairs is', combinationsOrderAndWithoutZeros(n))"
   ]
  },
  {
   "cell_type": "markdown",
   "metadata": {},
   "source": [
    "For the example with 10 stairs the six unique combinations (3.1) result in the folling combinations with order according formula (3.2):\n",
    "(Note: 0s are ignored)\n",
    "\n",
    "$$(3.2)\\hspace{10mm}NumOfCombinationsWithOrder(10) = \\sum_{numberOf2s=0}^{floor(10 / 2)} \\binom{10 - numberOf2s}{NunumberOf2s}=$$\n",
    "\n",
    "$$\\binom{10 - 0}{0}+\\binom{10 - 1}{1}+\\binom{10 - 2}{2}+\\binom{10 - 3}{3}+\\binom{10 - 4}{4}+\\binom{10 - 5}{5} = 89$$\n",
    "\n",
    "Breaking it down:\n",
    "\n",
    "1. [1,1,1,1,1,1,1,1,1,1], *NunumberOf2sk*=0:\n",
    "\n",
    "$$\\hspace{00mm}\\sum_{NunumberOf2s=0}^{0} \\binom{10 - 0}{0} = 1$$\n",
    "\n",
    "---\n",
    "2. [2,1,1,1,1,1,1,1,1,0], *NunumberOf2s*=1:\n",
    "$$\\hspace{0mm}[2,1,1,1,1,1,1,1,1,0]$$ \n",
    "$$\\hspace{0mm}[1,2,1,1,1,1,1,1,1,0]$$\n",
    "$$\\hspace{0mm}...$$\n",
    "$$\\hspace{0mm}[1,1,1,1,1,1,1,1,2,0]$$\n",
    "\n",
    "$$\\hspace{00mm}\\sum_{NunumberOf2s=1}^{1} \\binom{10 - 1}{1} = \\binom{9}{1} = 9$$\n",
    "\n",
    "3. [2,2,1,1,1,1,1,1,1,0], *NunumberOf2s*=2:\n",
    "$$\\hspace{0mm}[2,2,1,1,1,1,1,1,1,0]$$ \n",
    "$$\\hspace{0mm}[2,1,2,1,1,1,1,1,1,0]$$\n",
    "$$\\hspace{0mm}...$$\n",
    "$$\\hspace{0mm}[1,2,2,1,1,1,1,1,1,0]$$ \n",
    "$$\\hspace{0mm}...$$\n",
    "$$\\hspace{0mm}[1,1,1,1,1,1,1,2,2,0]$$\n",
    "\n",
    "$$\\hspace{00mm}\\sum_{NunumberOf2s=2}^{2} \\binom{10 - 2}{2} = \\binom{8}{2} = 28$$\n",
    "\n",
    "4. [2,2,2,1,1,1,1,1,1,0], *NunumberOf2s*=3:\n",
    "$$\\hspace{0mm}[2,2,2,1,1,1,1,1,1,0]$$ \n",
    "$$\\hspace{0mm}[2,2,1,2,1,1,1,1,1,0]$$\n",
    "$$\\hspace{0mm}...$$\n",
    "$$\\hspace{0mm}[1,2,2,2,1,1,1,1,1,0]$$ \n",
    "$$\\hspace{0mm}...$$\n",
    "$$\\hspace{0mm}[1,1,1,1,1,1,2,2,2,0]$$\n",
    "\n",
    "$$\\hspace{00mm}\\sum_{NunumberOf2s=3}^{3} \\binom{10 - 3}{3} = \\binom{7}{3} = 35$$\n",
    "\n",
    "5. [2,2,2,2,1,1,1,1,1,0], *NunumberOf2s*=4:\n",
    "$$\\hspace{0mm}[2,2,2,2,1,1,1,1,1,0]$$ \n",
    "$$\\hspace{0mm}[2,2,2,1,2,1,1,1,1,0]$$\n",
    "$$\\hspace{0mm}...$$\n",
    "$$\\hspace{0mm}[1,2,2,2,2,1,1,1,1,0]$$ \n",
    "$$\\hspace{0mm}...$$\n",
    "$$\\hspace{0mm}[1,1,1,1,1,2,2,2,2,0]$$\n",
    "\n",
    "$$\\hspace{00mm}\\sum_{NunumberOf2s=4}^{4} \\binom{10 - 4}{4} = \\binom{6}{4} = 15$$\n",
    "\n",
    "5. [2,2,2,2,2,1,1,1,1,0], *NunumberOf2s*=5:\n",
    "$$\\hspace{0mm}[2,2,2,2,2,1,1,1,1,0]$$ \n",
    "$$\\hspace{0mm}[2,2,2,2,1,2,1,1,1,0]$$\n",
    "$$\\hspace{0mm}...$$\n",
    "$$\\hspace{0mm}[1,2,2,2,2,2,1,1,1,0]$$ \n",
    "$$\\hspace{0mm}...$$\n",
    "$$\\hspace{0mm}[1,1,1,1,2,2,2,2,2,0]$$\n",
    "\n",
    "$$\\hspace{00mm}\\sum_{NunumberOf2s=5}^{5} \\binom{10 - 5}{5} = \\binom{5}{5} = 1$$\n"
   ]
  },
  {
   "cell_type": "markdown",
   "metadata": {},
   "source": [
    "## Comparing the the results with the fibonacci-solution"
   ]
  },
  {
   "cell_type": "code",
   "execution_count": null,
   "metadata": {},
   "outputs": [],
   "source": []
  },
  {
   "cell_type": "code",
   "execution_count": null,
   "metadata": {},
   "outputs": [],
   "source": []
  },
  {
   "cell_type": "code",
   "execution_count": null,
   "metadata": {},
   "outputs": [],
   "source": []
  },
  {
   "cell_type": "code",
   "execution_count": null,
   "metadata": {},
   "outputs": [],
   "source": []
  }
 ],
 "metadata": {
  "kernelspec": {
   "display_name": "Python 3",
   "language": "python",
   "name": "python3"
  },
  "language_info": {
   "codemirror_mode": {
    "name": "ipython",
    "version": 3
   },
   "file_extension": ".py",
   "mimetype": "text/x-python",
   "name": "python",
   "nbconvert_exporter": "python",
   "pygments_lexer": "ipython3",
   "version": "3.8.5"
  },
  "toc": {
   "base_numbering": 1,
   "nav_menu": {},
   "number_sections": true,
   "sideBar": true,
   "skip_h1_title": false,
   "title_cell": "Table of Contents",
   "title_sidebar": "Contents",
   "toc_cell": false,
   "toc_position": {},
   "toc_section_display": true,
   "toc_window_display": false
  },
  "varInspector": {
   "cols": {
    "lenName": 16,
    "lenType": 16,
    "lenVar": 40
   },
   "kernels_config": {
    "python": {
     "delete_cmd_postfix": "",
     "delete_cmd_prefix": "del ",
     "library": "var_list.py",
     "varRefreshCmd": "print(var_dic_list())"
    },
    "r": {
     "delete_cmd_postfix": ") ",
     "delete_cmd_prefix": "rm(",
     "library": "var_list.r",
     "varRefreshCmd": "cat(var_dic_list()) "
    }
   },
   "types_to_exclude": [
    "module",
    "function",
    "builtin_function_or_method",
    "instance",
    "_Feature"
   ],
   "window_display": false
  }
 },
 "nbformat": 4,
 "nbformat_minor": 2
}
