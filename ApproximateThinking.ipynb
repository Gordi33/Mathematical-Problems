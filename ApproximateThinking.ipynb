{
 "cells": [
  {
   "cell_type": "markdown",
   "metadata": {},
   "source": [
    "# Approximative Thinking - Approximation of the area of a circle with regular polygons"
   ]
  },
  {
   "cell_type": "markdown",
   "metadata": {},
   "source": [
    "The area of a circle disc will be described and approximated by regular polygons.\n",
    "\n",
    "The process is starting off with a polygon having three corners resp. a triangle. In each step the polygon's number of corners $ n $ will be doubled. \n",
    "The area of each polygon will be achieved by a formula, which devides the polygon in disjunct triangles. The number of equal-sized and disjunct triangles is exactly the number of the polygon's corners. \n",
    "\n",
    "- The first step covers the derivation of the first polygon's area $ (E_3) $, its formula and its general formula $ (E_n) $ for any given number of corners.\n",
    "- The second step covers the limiting process resp. the limit $ L = \\pi*r^2 $ $ of $ (E_n) $ as $n$, the number of corners, approaches infinity. "
   ]
  },
  {
   "cell_type": "markdown",
   "metadata": {},
   "source": [
    "# First step: Starting with a polygon *$ (E_3) $* with 3 corners, transitioning this to a  polygon *$ (E_n) $* with $ n $ corners and deriving its formula"
   ]
  },
  {
   "cell_type": "markdown",
   "metadata": {},
   "source": [
    "**The formula and the idea**"
   ]
  },
  {
   "cell_type": "markdown",
   "metadata": {},
   "source": [
    "Starting with an equilateral triangle $ (E_3) $ with three equal sides and three corners, which lays within a circle disc. Let $ M $ be the circle centre and $ r $ be the radius of the circle. $ (E_3) $ is devided into three disjunct and equal-sized triangles by introducing three lines from the circle's centre $ M $ to the triangle's corners.\n",
    "\n",
    "When computing the area of the first poylgon, the triangle with three corners is devided into three equal-sized equilateral triangles each denoted with *$A_{E_3}$* resp. *$A$* having two equal sides of length $ r $ and the hypotenuse $ s $.\n",
    "The total area of the starting polygon with three corners, $ n = 3 $, is therefore \n",
    "\n",
    "$$(3.1)\\hspace{10mm} (E_n) = n*A $$\n",
    "\n",
    "For deriving a formula to compute the area of $ (E_n) $, each $ A $ is further devided into two disjunct, right-angled and equal-sized triangles by introducing a bisecting line from $ M $ to the outter cirlce line such the the bisecting line insects with $ s $ having a right angle. Let that line segment from $ M $ to $ s $ be denoted by $ h $.\n",
    "\n",
    "More general, each next polygon is generated out of the previous one with doubling the number of corners. \n",
    "The area appears as a polygon as a collection of pairwise disjoint triangles."
   ]
  },
  {
   "cell_type": "markdown",
   "metadata": {},
   "source": [
    "**The area of a right-angled triangle**"
   ]
  },
  {
   "cell_type": "markdown",
   "metadata": {},
   "source": [
    "The area of $ A $ can be computed by considering two equal-sized right-angled-triangles with hypotunuse $ r $ and the two catheti $ s/2 $  and $ h $. The area of a triangle is equal to one half the base $ s/2 $ multiplied by the corresponding height $ h $.\n",
    "\n",
    "$$(3.2)\\hspace{10mm} A = 2 * \\frac{ h * s/2 } { 2 } = h * s/2 $$"
   ]
  },
  {
   "cell_type": "markdown",
   "metadata": {},
   "source": [
    "**Using the [trigonometric ratios](https://en.wikipedia.org/wiki/Trigonometry) to determine the adjacent side s/2**"
   ]
  },
  {
   "cell_type": "markdown",
   "metadata": {},
   "source": [
    "The determination of the side $ s/2 $ can be described by the trigonometric ratios:\n",
    "\n",
    "$ s/2 $ is the adjacent leg to the hypotenuse $ r $ and the Cosine function's internal angle is defined as the ratio of those two sides. \n",
    "\n",
    "$$(3.3)\\hspace{10mm} cos({\\alpha})  = \\frac{ s/2 } { r } $$\n",
    " \n",
    "The internal angle $ {\\alpha} $ can be derived out of the fact that the circle has 360° degrees. Dividing the total circle's degrees into $ n $ equal parts and then considering one half leads to\n",
    "\n",
    "$$(3.4)\\hspace{10mm} {\\alpha} = \\frac{ 360° } { n }  * \\frac{ 1 } { 2 }$$\n",
    "\n",
    "For $ n=3 $  follows $ {\\alpha} = 60° $\n",
    " "
   ]
  },
  {
   "cell_type": "markdown",
   "metadata": {},
   "source": [
    "**Using  [Pythagorean's theorem](https://en.wikipedia.org/wiki/Pythagorean_theorem) to determine the opposite side h**"
   ]
  },
  {
   "cell_type": "markdown",
   "metadata": {},
   "source": [
    "With Pythagorean's theorem, $ h $ can be set as followed: \n",
    "\n",
    "$$(3.5)\\hspace{10mm} h = \\sqrt[]{r^{2} - (s/2)^{2}} $$"
   ]
  },
  {
   "cell_type": "markdown",
   "metadata": {},
   "source": [
    "**Using (3.2) to (3.5) to determine $(E_3)$**"
   ]
  },
  {
   "cell_type": "markdown",
   "metadata": {},
   "source": [
    "\\begin{align} \n",
    "    (E_n) &= n*A \\hspace{80mm} \\Longleftrightarrow_{(3.2)} \\\\ \n",
    "          &= n*h * s/2  \\hspace{71mm} \\Longleftrightarrow_{(3.5)} \\\\ \n",
    "          &= n*\\sqrt[]{r^{2}-(s/2)^{2}} * s/2 \\hspace{49mm} \\Longleftrightarrow_{(3.3)} \\\\  \n",
    "          &= n*\\sqrt[]{r^{2}-(cos({\\alpha})*r)^{2}} * cos({\\alpha}) * r \\hspace{25mm} \\Longleftrightarrow_{(3.4), n=3} \\\\\n",
    "          &= n*\\sqrt[]{r^{2}-(cos({\\frac{180°}{n}})*r)^{2}}*cos({\\frac{180°}{n}})*r\\hspace{10mm} (3.6)\\\\\n",
    "\\end{align} \n"
   ]
  },
  {
   "cell_type": "markdown",
   "metadata": {},
   "source": [
    "Using [**Pythagorean's trigonometric identity**](https://en.wikipedia.org/wiki/Pythagorean_trigonometric_identity) and [**Units of angle**](https://en.wikipedia.org/wiki/Pi#:~:text=with%20period%202%CF%80.-,Units%20of%20angle,-Main%20article%3A%20Units):\n",
    "\n",
    "$$(3.7)\\hspace{10mm} sin^{2}({\\alpha}) + cos^{2}({\\alpha}) = 1 $$\n",
    "\n",
    "$$(3.8)\\hspace{10mm} {\\pi} = 180° $$\n",
    "\n",
    "to convert (3.6):\n",
    "\n",
    "\\begin{align} \n",
    "    (E_n) &= n*\\sqrt[]{r^{2}-(cos({\\frac{180°}{n}})*r)^{2}}*cos({\\frac{180°}{n}})*r\\hspace{9mm} \\Longleftrightarrow \\\\\n",
    "          &= n*\\sqrt[]{r^{2}*(1-cos^{2}({\\frac{180°}{n}})}*cos({\\frac{180°}{n}})*r\\hspace{10mm} \\Longleftrightarrow_{(3.7)}\\\\\n",
    "          &= n*\\sqrt[]{r^{2}*sin^{2}({\\frac{180°}{n}})}*cos({\\frac{180°}{n}})*r\\hspace{19mm} \\Longleftrightarrow \\\\\n",
    "          &= n*r*sin({\\frac{180°}{n}})*cos({\\frac{180°}{n}})*r\\hspace{28mm} \\Longleftrightarrow_{(3.8)} \\\\\n",
    "          &= n*r^{2}*sin({\\frac{\\pi}{n}})*cos({\\frac{\\pi}{n}})\\hspace{45mm} \\\\\n",
    "\\end{align}"
   ]
  },
  {
   "cell_type": "markdown",
   "metadata": {},
   "source": [
    "The formula for  $ (E_n) $ therefore is:\n",
    "\n",
    "$$(3.9)\\hspace{10mm} (E_n) = n*r^{2}*sin({\\frac{\\pi}{n}})*cos({\\frac{\\pi}{n}})\\hspace{45mm} $$"
   ]
  },
  {
   "cell_type": "code",
   "execution_count": 2,
   "metadata": {
    "code_folding": []
   },
   "outputs": [],
   "source": [
    "import math\n",
    "\n",
    "def E_n(n, r = 1):\n",
    "    return n * r**2 * math.sin(math.pi/n) * math.cos(math.pi/n)"
   ]
  },
  {
   "cell_type": "code",
   "execution_count": 3,
   "metadata": {},
   "outputs": [],
   "source": [
    "import numpy as np\n",
    "import pandas as pd \n",
    "import matplotlib.pyplot as plt\n",
    "\n",
    "df = pd.DataFrame()\n",
    "step = 1\n",
    "\n",
    "for numOfCorners in (3*2**(i*step) for i in range(0, 10)):\n",
    "    df = df.append({'Corners': numOfCorners, 'Area': E_n(numOfCorners)}, ignore_index = True)"
   ]
  },
  {
   "cell_type": "code",
   "execution_count": 4,
   "metadata": {},
   "outputs": [],
   "source": [
    "df['Difference_to_Pi'] = math.pi - df['Area']"
   ]
  },
  {
   "cell_type": "code",
   "execution_count": 5,
   "metadata": {
    "scrolled": false
   },
   "outputs": [
    {
     "data": {
      "text/plain": [
       "<AxesSubplot:>"
      ]
     },
     "execution_count": 5,
     "metadata": {},
     "output_type": "execute_result"
    },
    {
     "data": {
      "image/png": "[encoded data removed]",
      "text/plain": [
       "<Figure size 432x288 with 2 Axes>"
      ]
     },
     "metadata": {
      "needs_background": "light"
     },
     "output_type": "display_data"
    }
   ],
   "source": [
    "figure, axes = plt.subplots(1, 2)\n",
    "df['Area'].plot(ax=axes[0], legend=True)\n",
    "df['Difference_to_Pi'].plot(ax=axes[1], legend=True)"
   ]
  },
  {
   "cell_type": "markdown",
   "metadata": {},
   "source": [
    "As shown, a polygon with more than 10 corners already approaches the circle's area (here with radius = 1) quite close.  "
   ]
  },
  {
   "cell_type": "markdown",
   "metadata": {},
   "source": [
    "# Second step: Finding the limit of *$ (E_n) $* as $n$, the number of corners, approaches infinity"
   ]
  },
  {
   "cell_type": "markdown",
   "metadata": {},
   "source": [
    "Each polygon with $ n $ corners will be devided into $ n $ disjunct, equal-sized subsets *$A_{E_n}$* resp. $ A $. Each $ A $ is split into two right-angled triangles with hypotenuse $r$, adjacent $ cos({\\frac{\\pi}{n}}) * {r} $  and  opposite $ sin({\\frac{\\pi}{n}}) * {r} $. With formula from (3.9):  \n",
    "\n",
    "$$\\hspace{10mm} (E_n) = n*r^{2}*sin({\\frac{\\pi}{n}})*cos({\\frac{\\pi}{n}})\\hspace{45mm}$$\n",
    "\n",
    "the limit $ L $ of $ (E_n) $ as the number of corners  $ n $  approaches $\\infty$ is $ L $ i.e., \n",
    "$ \\lim_{n\\to\\infty} (E_n) = L $ "
   ]
  },
  {
   "cell_type": "markdown",
   "metadata": {},
   "source": [
    "**Finding the limit $ L $ such that $ L = \\pi*r^2 $**"
   ]
  },
  {
   "cell_type": "markdown",
   "metadata": {},
   "source": [
    "Forming the limit of $ (E_n) $ as $ n $ approaches $\\infty$ leads to \n",
    "\n",
    "$$(4.1)\\hspace{10mm} \\lim_{n\\to\\infty} (E_n) = n_{\\to\\infty} * r^{2}_{\\to constant} * sin({\\frac{\\pi}{n}})_{\\to 0}  * cos({\\frac{\\pi}{n}})_{\\to 1} $$\n",
    "\n",
    "(4.1) leads to an indeterminate form of typ  $\"0*\\infty\"$.\n",
    "\n",
    "- The radius and $ \\pi $ are constant.\n",
    "- The $ sin({\\frac{\\pi}{n}}) $ as $ n $ approaches infinity is $ 0 $, because $ sin(0) = 0 $.\n",
    "- And the $ cos({\\frac{\\pi}{n}}) $ as $ n $ approaches infinity is $ 1 $, because $ cos(0) = 1 $."
   ]
  },
  {
   "cell_type": "markdown",
   "metadata": {},
   "source": [
    "**Using [L'Hôpital's rule](https://en.wikipedia.org/wiki/L%27H%C3%B4pital%27s_rule)**"
   ]
  },
  {
   "cell_type": "markdown",
   "metadata": {},
   "source": [
    "For applying the rule of L'Hôpital, $ (E_n) $ is split into two functions \n",
    "\n",
    "$$(4.2)\\hspace{10mm} g(n) = n $$ \n",
    "with its limit \n",
    "$$ \\lim_{n\\to\\infty} g(n) = \\infty $$\n",
    "and \n",
    "$$(4.3)\\hspace{10mm} f(n) = r^{2} * sin({\\frac{\\pi}{n}}) * cos({\\frac{\\pi}{n}}) $$\n",
    "with its limit \n",
    "$$ \\lim_{n\\to\\infty} f(n) = 0 $$\n"
   ]
  },
  {
   "cell_type": "markdown",
   "metadata": {},
   "source": [
    "The rule of L'Hôpital applies to situations in which the ratio of the derivatives has a finite or infinite limit. Therefore $ g(n) $ is transformed such that an indeterminate form of typ $\"0*0\"$ is achieved. \n",
    " \n",
    "$$(4.4)\\hspace{10mm} h(n) = \\frac{1}{g(n)} = \\frac{1}{n} $$ \n",
    "with its limit \n",
    "$$ \\lim_{n\\to\\infty} h(n) = 0 $$"
   ]
  },
  {
   "cell_type": "markdown",
   "metadata": {},
   "source": [
    "**The limit $ L $ can be found with L'Hôpital's rule by $ L = \\lim_{n\\to\\infty} \\frac{f'(n)}{h'(n)}$ .** "
   ]
  },
  {
   "cell_type": "markdown",
   "metadata": {},
   "source": [
    "Finding the derivatives of (4.4) and (4.3) can be achieved with the [chain rule](https://en.wikipedia.org/wiki/Chain_rule)\n",
    "\n",
    "$$(4.5)\\hspace{10mm} h'(n) = \\frac{-1}{n^{2}} $$\n",
    "\n",
    "$$(4.6)\\hspace{10mm} f'(n) = \\frac{\\pi * r^{2} * (sin^{2}({\\frac{\\pi}{n}}) - cos^{2}({\\frac{\\pi}{n}))}}{n^{2}} $$\n",
    "\n",
    "Applying L'Hôpital\n",
    "\n",
    "\\begin{align} \n",
    "    L &= \\lim_{n\\to\\infty} \\frac{\\frac{\\pi * r^{2} * (sin^{2}({\\frac{\\pi}{n}}) - cos^{2}({\\frac{\\pi}{n}))}}{n^{2}}} {\\frac{-1}{n^{2}}} \\\\\n",
    "      &= \\lim_{n\\to\\infty} \\frac{\\pi * r^{2} * (sin^{2}({\\frac{\\pi}{n}}) - cos^{2}({\\frac{\\pi}{n}))}}{n^{2}} * \\frac{n^{2}}{-1} \\\\\n",
    "      &= \\lim_{n\\to\\infty} \\pi * r^{2} * -1 * (sin^{2}({\\frac{\\pi}{n}}) - cos^{2}({\\frac{\\pi}{n}))} \\\\\n",
    "      &= \\lim_{n\\to\\infty} \\pi * r^{2} * (cos^{2}({\\frac{\\pi}{n}}) - sin^{2}({\\frac{\\pi}{n}))} \\\\\n",
    "      &= \\lim_{n\\to\\infty} \\pi_{\\to\\ constant} * r^{2}_{\\to\\ constant} * (cos^{2}({\\frac{\\pi}{n}})_{\\to\\ 1} - sin^{2}({\\frac{\\pi}{n})_{\\to\\ 0})} \\\\    \n",
    "      &= \\pi * r^{2} * (1 - 0) \\\\    \n",
    "      &= \\pi * r^{2} \\\\ \n",
    "\\end{align}\n",
    "\n"
   ]
  },
  {
   "cell_type": "markdown",
   "metadata": {},
   "source": []
  }
 ],
 "metadata": {
  "kernelspec": {
   "display_name": "Python 3 (ipykernel)",
   "language": "python",
   "name": "python3"
  },
  "language_info": {
   "codemirror_mode": {
    "name": "ipython",
    "version": 3
   },
   "file_extension": ".py",
   "mimetype": "text/x-python",
   "name": "python",
   "nbconvert_exporter": "python",
   "pygments_lexer": "ipython3",
   "version": "3.8.6"
  },
  "toc": {
   "base_numbering": 1,
   "nav_menu": {},
   "number_sections": false,
   "sideBar": true,
   "skip_h1_title": false,
   "title_cell": "Table of Contents",
   "title_sidebar": "Contents",
   "toc_cell": false,
   "toc_position": {
    "height": "calc(100% - 180px)",
    "left": "10px",
    "top": "150px",
    "width": "371px"
   },
   "toc_section_display": true,
   "toc_window_display": false
  },
  "varInspector": {
   "cols": {
    "lenName": 16,
    "lenType": 16,
    "lenVar": 40
   },
   "kernels_config": {
    "python": {
     "delete_cmd_postfix": "",
     "delete_cmd_prefix": "del ",
     "library": "var_list.py",
     "varRefreshCmd": "print(var_dic_list())"
    },
    "r": {
     "delete_cmd_postfix": ") ",
     "delete_cmd_prefix": "rm(",
     "library": "var_list.r",
     "varRefreshCmd": "cat(var_dic_list()) "
    }
   },
   "types_to_exclude": [
    "module",
    "function",
    "builtin_function_or_method",
    "instance",
    "_Feature"
   ],
   "window_display": false
  }
 },
 "nbformat": 4,
 "nbformat_minor": 2
}
